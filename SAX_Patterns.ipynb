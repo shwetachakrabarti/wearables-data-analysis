{
 "cells": [
  {
   "cell_type": "markdown",
   "id": "ceed37cb",
   "metadata": {},
   "source": [
    "Similar Pattern in the data using Symbolic Aggregate Approximation (SAX)"
   ]
  },
  {
   "cell_type": "code",
   "execution_count": 1,
   "id": "e7630d2a",
   "metadata": {},
   "outputs": [],
   "source": [
    "import pandas as pd\n",
    "import numpy as np\n",
    "import os\n",
    "os.chdir('/Users/sujitc/Desktop/Wearables/Signatures/')\n",
    "from saxpy.znorm import znorm\n",
    "from saxpy.paa import paa\n",
    "from saxpy.sax import ts_to_string\n",
    "from saxpy.alphabet import cuts_for_asize\n",
    "from sksequitur import parse\n",
    "import matplotlib.pyplot as plt\n",
    "import seaborn as sns"
   ]
  },
  {
   "cell_type": "code",
   "execution_count": 3,
   "id": "f442a4fe",
   "metadata": {},
   "outputs": [],
   "source": [
    "def sax(df):\n",
    "    width = 10\n",
    "    max_hr = 140\n",
    "    min_hr = 32\n",
    "    range_hr = max_hr - min_hr\n",
    "    a = range_hr/width ## number of alpabets are using \n",
    "    L = len(df)\n",
    "    alist = ['a','b','c','d', 'e', 'f', 'g', 'h', 'i', 'j', 'k', 'l']\n",
    "    lookup = {}\n",
    "    start = max_hr; end = min_hr\n",
    "    \n",
    "# ## making a linear lookup table\n",
    "    for a1 in alist:\n",
    "        lookup[a1] = [start, start-width]\n",
    "        start -= width\n",
    "#     print(lookup)\n",
    "# ####build PAA following arxiv paper\n",
    "    paa_arxiv = []\n",
    "    for i in range(0,L-1,10):    ## this for loop will slow the code !!\n",
    "        f = df.iloc[i]['heartrate']\n",
    "        s = df.iloc[i+1]['heartrate']\n",
    "        paa_arxiv.append((f+s)*0.5)\n",
    "#     print(paa_arxiv)\n",
    "# now convert to letters\n",
    "    S = ''\n",
    "    for p in paa_arxiv: \n",
    "        for k,v in lookup.items():\n",
    "            start = v[0]\n",
    "            end = v[1];\n",
    "            if p <= start and p > end:\n",
    "                S+= k\n",
    "                break\n",
    "    return S"
   ]
  },
  {
   "cell_type": "code",
   "execution_count": 4,
   "id": "0d5d08d8",
   "metadata": {},
   "outputs": [],
   "source": [
    "dates = [ '2022-01-03','2022-01-06', '2022-01-08', '2022-01-12', '2022-01-15', '2022-01-19', '2022-01-22']"
   ]
  },
  {
   "cell_type": "code",
   "execution_count": 5,
   "id": "1aadc986",
   "metadata": {},
   "outputs": [],
   "source": [
    "pat = []\n",
    "for i in dates:\n",
    "    df = pd.read_csv('V1_hr.csv')\n",
    "    df = df.set_index(['datetime'])\n",
    "    df = df[np.logical_and(df.index>= f'{str(i)} 00:00:00', df.index<= f'{str(i)} 23:59:00')]\n",
    "    pat.append(sax(df))"
   ]
  },
  {
   "cell_type": "code",
   "execution_count": 6,
   "id": "8c9d6e87",
   "metadata": {},
   "outputs": [
    {
     "data": {
      "text/plain": [
       "['feeeefffffffggggggggggghhhhghgghhhhhhhhhhhhghhhdfefgeffggffggggggeggggggggeffeffffgfeeefffffffeffffhffeefffffffefeeeefeffffffffffffffffffffghggh',\n",
       " 'fffffffgggghhhghhhggggggggghghfgggggghhhhhggghhhggdfggggfffcdffffffeefffeefgeecdedeeeeeeefefegedeefeefeffbefdfffffeeffffffffeeffffffeffffggggggg',\n",
       " 'fffffffgffgfgggfggghgghhhghhhhhhghhhhhiiihhhihhhhhhghhhihhgefdfeddcdddddcdceeeffeddeeddddgddeffeedccddedddddefffffggeefeffgffecdfefffffffffgfggf',\n",
       " 'ffeeeefeffffffggggghhgggghgggggghhffghhhhhhfhhgfggggefhggggfggfeggggggfefffgfgggfeeggggfffgfffgffgffefffghgggffedefdffefefffffgfffffgfefefffffff',\n",
       " 'eeeeffeeffeeefeffefffgffffffffffgggfgfgggggggggggfghgfefgfffffcfffeeefdddddddeedfefffffffffffeeeefcffffeddeeffffigfffeghffffgffffffgggggffffgggg',\n",
       " 'bbbabbbbaabbbbbcbbcbcbcfcccccccccddcddddddefeedfeffdcdcbcedcdddeeedeeddeeeeccedcddddcccdddccddffeegegfjhefgbdeecfedeecddekhddededdeeeedeeddedeee',\n",
       " 'ffgfffefffffgggggggggggggeggggggghggggfhhhhhhhhhhhhhhhhhdfegffgfggfgcedeeffgffgdeefffgggggghggggfffggffgggggggfgfggggggggggghggggffeefgggggggggg']"
      ]
     },
     "execution_count": 6,
     "metadata": {},
     "output_type": "execute_result"
    }
   ],
   "source": [
    "pat"
   ]
  },
  {
   "cell_type": "code",
   "execution_count": 7,
   "id": "dc9bd935",
   "metadata": {},
   "outputs": [
    {
     "name": "stdout",
     "output_type": "stream",
     "text": [
      "0 feeeefffffffggggggggggghhhhghgghhhhhhhhhhhhghhhdfefgeffggffggggggeggggggggeffeffffgfeeefffffffeffffhffeefffffffefeeeefeffffffffffffffffffffghggh\n",
      "1 fffffffgggghhhghhhggggggggghghfgggggghhhhhggghhhggdfggggfffcdffffffeefffeefgeecdedeeeeeeefefegedeefeefeffbefdfffffeeffffffffeeffffffeffffggggggg\n",
      "2 fffffffgffgfgggfggghgghhhghhhhhhghhhhhiiihhhihhhhhhghhhihhgefdfeddcdddddcdceeeffeddeeddddgddeffeedccddedddddefffffggeefeffgffecdfefffffffffgfggf\n",
      "3 ffeeeefeffffffggggghhgggghgggggghhffghhhhhhfhhgfggggefhggggfggfeggggggfefffgfgggfeeggggfffgfffgffgffefffghgggffedefdffefefffffgfffffgfefefffffff\n",
      "4 eeeeffeeffeeefeffefffgffffffffffgggfgfgggggggggggfghgfefgfffffcfffeeefdddddddeedfefffffffffffeeeefcffffeddeeffffigfffeghffffgffffffgggggffffgggg\n",
      "5 bbbabbbbaabbbbbcbbcbcbcfcccccccccddcddddddefeedfeffdcdcbcedcdddeeedeeddeeeeccedcddddcccdddccddffeegegfjhefgbdeecfedeecddekhddededdeeeedeeddedeee\n",
      "6 ffgfffefffffgggggggggggggeggggggghggggfhhhhhhhhhhhhhhhhhdfegffgfggfgcedeeffgffgdeefffgggggghggggfffggffgggggggfgfggggggggggghggggffeefgggggggggg\n"
     ]
    }
   ],
   "source": [
    "pat\n",
    "for i, a in enumerate(pat):\n",
    "    print(i,a)\n",
    "# pat.pop(18)"
   ]
  },
  {
   "cell_type": "code",
   "execution_count": 10,
   "id": "eb9d1dd9",
   "metadata": {},
   "outputs": [
    {
     "data": {
      "text/plain": [
       "(7, 144)"
      ]
     },
     "execution_count": 10,
     "metadata": {},
     "output_type": "execute_result"
    }
   ],
   "source": [
    "#for transition frequency\n",
    "lst = []\n",
    "for i in pat:\n",
    "    lst.append(list(i))\n",
    "b = np.array(lst)\n",
    "\n",
    "b.shape"
   ]
  },
  {
   "cell_type": "code",
   "execution_count": 11,
   "id": "81536c68",
   "metadata": {},
   "outputs": [],
   "source": [
    "df = pd.DataFrame(b)\n",
    "df.to_csv('data.csv')"
   ]
  },
  {
   "cell_type": "code",
   "execution_count": 12,
   "id": "cf465016",
   "metadata": {},
   "outputs": [
    {
     "name": "stdout",
     "output_type": "stream",
     "text": [
      "46\n",
      "57\n",
      "69\n",
      "67\n",
      "55\n",
      "83\n",
      "49\n"
     ]
    }
   ],
   "source": [
    "b = []\n",
    "for i in range(0, 7):\n",
    "    count = 0\n",
    "    a =[]\n",
    "    for j in range(0, 143):\n",
    "        if df.iloc[i,j] != df.iloc[i,j+1]:\n",
    "            count +=1\n",
    "            t = df.iloc[i,j] + '>'+ df.iloc[i,j+1] \n",
    "            a.append(t)\n",
    "    b.append(a)\n",
    "    print(count)"
   ]
  },
  {
   "cell_type": "code",
   "execution_count": 13,
   "id": "a68d6bc8",
   "metadata": {},
   "outputs": [],
   "source": [
    "df2 = []\n",
    "for i in b:\n",
    "    df1 = pd.DataFrame({'transition':i})\n",
    "    df2.append(df1.value_counts())\n"
   ]
  },
  {
   "cell_type": "code",
   "execution_count": 17,
   "id": "7e39ab9a",
   "metadata": {},
   "outputs": [],
   "source": [
    "for i in df2:   \n",
    "    df3 = pd.DataFrame(df2[0])\n",
    "    df3.reset_index(inplace=True)\n",
    "    df3.rename(columns = {0: 'frequency'}, inplace =True)\n",
    "    "
   ]
  },
  {
   "cell_type": "code",
   "execution_count": 19,
   "id": "7e2f5708",
   "metadata": {},
   "outputs": [
    {
     "data": {
      "text/html": [
       "<div>\n",
       "<style scoped>\n",
       "    .dataframe tbody tr th:only-of-type {\n",
       "        vertical-align: middle;\n",
       "    }\n",
       "\n",
       "    .dataframe tbody tr th {\n",
       "        vertical-align: top;\n",
       "    }\n",
       "\n",
       "    .dataframe thead th {\n",
       "        text-align: right;\n",
       "    }\n",
       "</style>\n",
       "<table border=\"1\" class=\"dataframe\">\n",
       "  <thead>\n",
       "    <tr style=\"text-align: right;\">\n",
       "      <th></th>\n",
       "      <th>transition</th>\n",
       "      <th>frequency</th>\n",
       "    </tr>\n",
       "  </thead>\n",
       "  <tbody>\n",
       "    <tr>\n",
       "      <th>0</th>\n",
       "      <td>e&gt;f</td>\n",
       "      <td>11</td>\n",
       "    </tr>\n",
       "    <tr>\n",
       "      <th>1</th>\n",
       "      <td>f&gt;e</td>\n",
       "      <td>9</td>\n",
       "    </tr>\n",
       "    <tr>\n",
       "      <th>2</th>\n",
       "      <td>f&gt;g</td>\n",
       "      <td>6</td>\n",
       "    </tr>\n",
       "    <tr>\n",
       "      <th>3</th>\n",
       "      <td>g&gt;h</td>\n",
       "      <td>6</td>\n",
       "    </tr>\n",
       "    <tr>\n",
       "      <th>4</th>\n",
       "      <td>h&gt;g</td>\n",
       "      <td>4</td>\n",
       "    </tr>\n",
       "    <tr>\n",
       "      <th>5</th>\n",
       "      <td>g&gt;e</td>\n",
       "      <td>3</td>\n",
       "    </tr>\n",
       "    <tr>\n",
       "      <th>6</th>\n",
       "      <td>g&gt;f</td>\n",
       "      <td>2</td>\n",
       "    </tr>\n",
       "    <tr>\n",
       "      <th>7</th>\n",
       "      <td>d&gt;f</td>\n",
       "      <td>1</td>\n",
       "    </tr>\n",
       "    <tr>\n",
       "      <th>8</th>\n",
       "      <td>e&gt;g</td>\n",
       "      <td>1</td>\n",
       "    </tr>\n",
       "    <tr>\n",
       "      <th>9</th>\n",
       "      <td>f&gt;h</td>\n",
       "      <td>1</td>\n",
       "    </tr>\n",
       "    <tr>\n",
       "      <th>10</th>\n",
       "      <td>h&gt;d</td>\n",
       "      <td>1</td>\n",
       "    </tr>\n",
       "    <tr>\n",
       "      <th>11</th>\n",
       "      <td>h&gt;f</td>\n",
       "      <td>1</td>\n",
       "    </tr>\n",
       "  </tbody>\n",
       "</table>\n",
       "</div>"
      ],
      "text/plain": [
       "   transition  frequency\n",
       "0         e>f         11\n",
       "1         f>e          9\n",
       "2         f>g          6\n",
       "3         g>h          6\n",
       "4         h>g          4\n",
       "5         g>e          3\n",
       "6         g>f          2\n",
       "7         d>f          1\n",
       "8         e>g          1\n",
       "9         f>h          1\n",
       "10        h>d          1\n",
       "11        h>f          1"
      ]
     },
     "execution_count": 19,
     "metadata": {},
     "output_type": "execute_result"
    }
   ],
   "source": [
    "df3"
   ]
  },
  {
   "cell_type": "code",
   "execution_count": 311,
   "id": "00b0a078",
   "metadata": {},
   "outputs": [
    {
     "name": "stderr",
     "output_type": "stream",
     "text": [
      "/Users/sujitc/opt/anaconda3/lib/python3.9/site-packages/seaborn/_decorators.py:36: FutureWarning: Pass the following variables as keyword args: x, y. From version 0.12, the only valid positional argument will be `data`, and passing other arguments without an explicit keyword will result in an error or misinterpretation.\n",
      "  warnings.warn(\n"
     ]
    },
    {
     "data": {
      "image/png": "[encoded data removed]",
      "text/plain": [
       "<Figure size 1656x288 with 1 Axes>"
      ]
     },
     "metadata": {},
     "output_type": "display_data"
    }
   ],
   "source": [
    "#Transition frequency plot\n",
    "ax = sns.barplot(df3.index, df3.frequency)\n",
    "for i in ax.containers:\n",
    "    ax.bar_label(i,)\n",
    "    \n",
    "plt.rcParams['figure.figsize'] = [23, 4]\n",
    "a = df3.index\n",
    "x = df3.transition\n",
    "plt.xticks(a, x, fontsize = 20)\n",
    "plt.yticks(fontsize = 20)\n",
    "plt.ylabel('frequency',fontsize=16)\n",
    "sns.set(font_scale=2)\n",
    "plt.suptitle('Transition Frequency for 22nd Jan 2022')\n",
    "# plt.ylim (0, 20)\n",
    "plt.show()"
   ]
  },
  {
   "cell_type": "code",
   "execution_count": 20,
   "id": "4c3708e0",
   "metadata": {},
   "outputs": [
    {
     "data": {
      "text/plain": [
       "(7, 144)"
      ]
     },
     "execution_count": 20,
     "metadata": {},
     "output_type": "execute_result"
    }
   ],
   "source": [
    "#for symbol frequency\n",
    "lst = []\n",
    "for i in pat:\n",
    "    lst.append(list(i))\n",
    "b = np.array(lst)\n",
    "\n",
    "b.shape"
   ]
  },
  {
   "cell_type": "code",
   "execution_count": 21,
   "id": "0562debe",
   "metadata": {},
   "outputs": [
    {
     "data": {
      "text/html": [
       "<div>\n",
       "<style scoped>\n",
       "    .dataframe tbody tr th:only-of-type {\n",
       "        vertical-align: middle;\n",
       "    }\n",
       "\n",
       "    .dataframe tbody tr th {\n",
       "        vertical-align: top;\n",
       "    }\n",
       "\n",
       "    .dataframe thead th {\n",
       "        text-align: right;\n",
       "    }\n",
       "</style>\n",
       "<table border=\"1\" class=\"dataframe\">\n",
       "  <thead>\n",
       "    <tr style=\"text-align: right;\">\n",
       "      <th></th>\n",
       "      <th>0</th>\n",
       "      <th>1</th>\n",
       "      <th>2</th>\n",
       "      <th>3</th>\n",
       "      <th>4</th>\n",
       "      <th>5</th>\n",
       "      <th>6</th>\n",
       "      <th>7</th>\n",
       "      <th>8</th>\n",
       "      <th>9</th>\n",
       "      <th>...</th>\n",
       "      <th>134</th>\n",
       "      <th>135</th>\n",
       "      <th>136</th>\n",
       "      <th>137</th>\n",
       "      <th>138</th>\n",
       "      <th>139</th>\n",
       "      <th>140</th>\n",
       "      <th>141</th>\n",
       "      <th>142</th>\n",
       "      <th>143</th>\n",
       "    </tr>\n",
       "  </thead>\n",
       "  <tbody>\n",
       "    <tr>\n",
       "      <th>0</th>\n",
       "      <td>f</td>\n",
       "      <td>e</td>\n",
       "      <td>e</td>\n",
       "      <td>e</td>\n",
       "      <td>e</td>\n",
       "      <td>f</td>\n",
       "      <td>f</td>\n",
       "      <td>f</td>\n",
       "      <td>f</td>\n",
       "      <td>f</td>\n",
       "      <td>...</td>\n",
       "      <td>f</td>\n",
       "      <td>f</td>\n",
       "      <td>f</td>\n",
       "      <td>f</td>\n",
       "      <td>f</td>\n",
       "      <td>g</td>\n",
       "      <td>h</td>\n",
       "      <td>g</td>\n",
       "      <td>g</td>\n",
       "      <td>h</td>\n",
       "    </tr>\n",
       "    <tr>\n",
       "      <th>1</th>\n",
       "      <td>f</td>\n",
       "      <td>f</td>\n",
       "      <td>f</td>\n",
       "      <td>f</td>\n",
       "      <td>f</td>\n",
       "      <td>f</td>\n",
       "      <td>f</td>\n",
       "      <td>g</td>\n",
       "      <td>g</td>\n",
       "      <td>g</td>\n",
       "      <td>...</td>\n",
       "      <td>f</td>\n",
       "      <td>f</td>\n",
       "      <td>f</td>\n",
       "      <td>g</td>\n",
       "      <td>g</td>\n",
       "      <td>g</td>\n",
       "      <td>g</td>\n",
       "      <td>g</td>\n",
       "      <td>g</td>\n",
       "      <td>g</td>\n",
       "    </tr>\n",
       "    <tr>\n",
       "      <th>2</th>\n",
       "      <td>f</td>\n",
       "      <td>f</td>\n",
       "      <td>f</td>\n",
       "      <td>f</td>\n",
       "      <td>f</td>\n",
       "      <td>f</td>\n",
       "      <td>f</td>\n",
       "      <td>g</td>\n",
       "      <td>f</td>\n",
       "      <td>f</td>\n",
       "      <td>...</td>\n",
       "      <td>f</td>\n",
       "      <td>f</td>\n",
       "      <td>f</td>\n",
       "      <td>f</td>\n",
       "      <td>f</td>\n",
       "      <td>g</td>\n",
       "      <td>f</td>\n",
       "      <td>g</td>\n",
       "      <td>g</td>\n",
       "      <td>f</td>\n",
       "    </tr>\n",
       "    <tr>\n",
       "      <th>3</th>\n",
       "      <td>f</td>\n",
       "      <td>f</td>\n",
       "      <td>e</td>\n",
       "      <td>e</td>\n",
       "      <td>e</td>\n",
       "      <td>e</td>\n",
       "      <td>f</td>\n",
       "      <td>e</td>\n",
       "      <td>f</td>\n",
       "      <td>f</td>\n",
       "      <td>...</td>\n",
       "      <td>e</td>\n",
       "      <td>f</td>\n",
       "      <td>e</td>\n",
       "      <td>f</td>\n",
       "      <td>f</td>\n",
       "      <td>f</td>\n",
       "      <td>f</td>\n",
       "      <td>f</td>\n",
       "      <td>f</td>\n",
       "      <td>f</td>\n",
       "    </tr>\n",
       "    <tr>\n",
       "      <th>4</th>\n",
       "      <td>e</td>\n",
       "      <td>e</td>\n",
       "      <td>e</td>\n",
       "      <td>e</td>\n",
       "      <td>f</td>\n",
       "      <td>f</td>\n",
       "      <td>e</td>\n",
       "      <td>e</td>\n",
       "      <td>f</td>\n",
       "      <td>f</td>\n",
       "      <td>...</td>\n",
       "      <td>g</td>\n",
       "      <td>g</td>\n",
       "      <td>f</td>\n",
       "      <td>f</td>\n",
       "      <td>f</td>\n",
       "      <td>f</td>\n",
       "      <td>g</td>\n",
       "      <td>g</td>\n",
       "      <td>g</td>\n",
       "      <td>g</td>\n",
       "    </tr>\n",
       "    <tr>\n",
       "      <th>5</th>\n",
       "      <td>b</td>\n",
       "      <td>b</td>\n",
       "      <td>b</td>\n",
       "      <td>a</td>\n",
       "      <td>b</td>\n",
       "      <td>b</td>\n",
       "      <td>b</td>\n",
       "      <td>b</td>\n",
       "      <td>a</td>\n",
       "      <td>a</td>\n",
       "      <td>...</td>\n",
       "      <td>d</td>\n",
       "      <td>e</td>\n",
       "      <td>e</td>\n",
       "      <td>d</td>\n",
       "      <td>d</td>\n",
       "      <td>e</td>\n",
       "      <td>d</td>\n",
       "      <td>e</td>\n",
       "      <td>e</td>\n",
       "      <td>e</td>\n",
       "    </tr>\n",
       "    <tr>\n",
       "      <th>6</th>\n",
       "      <td>f</td>\n",
       "      <td>f</td>\n",
       "      <td>g</td>\n",
       "      <td>f</td>\n",
       "      <td>f</td>\n",
       "      <td>f</td>\n",
       "      <td>e</td>\n",
       "      <td>f</td>\n",
       "      <td>f</td>\n",
       "      <td>f</td>\n",
       "      <td>...</td>\n",
       "      <td>g</td>\n",
       "      <td>g</td>\n",
       "      <td>g</td>\n",
       "      <td>g</td>\n",
       "      <td>g</td>\n",
       "      <td>g</td>\n",
       "      <td>g</td>\n",
       "      <td>g</td>\n",
       "      <td>g</td>\n",
       "      <td>g</td>\n",
       "    </tr>\n",
       "  </tbody>\n",
       "</table>\n",
       "<p>7 rows × 144 columns</p>\n",
       "</div>"
      ],
      "text/plain": [
       "  0   1   2   3   4   5   6   7   8   9    ... 134 135 136 137 138 139 140  \\\n",
       "0   f   e   e   e   e   f   f   f   f   f  ...   f   f   f   f   f   g   h   \n",
       "1   f   f   f   f   f   f   f   g   g   g  ...   f   f   f   g   g   g   g   \n",
       "2   f   f   f   f   f   f   f   g   f   f  ...   f   f   f   f   f   g   f   \n",
       "3   f   f   e   e   e   e   f   e   f   f  ...   e   f   e   f   f   f   f   \n",
       "4   e   e   e   e   f   f   e   e   f   f  ...   g   g   f   f   f   f   g   \n",
       "5   b   b   b   a   b   b   b   b   a   a  ...   d   e   e   d   d   e   d   \n",
       "6   f   f   g   f   f   f   e   f   f   f  ...   g   g   g   g   g   g   g   \n",
       "\n",
       "  141 142 143  \n",
       "0   g   g   h  \n",
       "1   g   g   g  \n",
       "2   g   g   f  \n",
       "3   f   f   f  \n",
       "4   g   g   g  \n",
       "5   e   e   e  \n",
       "6   g   g   g  \n",
       "\n",
       "[7 rows x 144 columns]"
      ]
     },
     "execution_count": 21,
     "metadata": {},
     "output_type": "execute_result"
    }
   ],
   "source": [
    "df = pd.DataFrame(b)\n",
    "df"
   ]
  },
  {
   "cell_type": "code",
   "execution_count": 22,
   "id": "3548b8f3",
   "metadata": {},
   "outputs": [],
   "source": [
    "#get the list of symbols and the maximum frequency overall\n",
    "alpha = []\n",
    "val = []\n",
    "\n",
    "for i in df:\n",
    "    alpha.append(df.iloc[:, i].value_counts().keys()[0])\n",
    "    val.append(df.iloc[:, i].value_counts().max())"
   ]
  },
  {
   "cell_type": "code",
   "execution_count": 171,
   "id": "b89b4692",
   "metadata": {},
   "outputs": [
    {
     "data": {
      "text/html": [
       "<div>\n",
       "<style scoped>\n",
       "    .dataframe tbody tr th:only-of-type {\n",
       "        vertical-align: middle;\n",
       "    }\n",
       "\n",
       "    .dataframe tbody tr th {\n",
       "        vertical-align: top;\n",
       "    }\n",
       "\n",
       "    .dataframe thead th {\n",
       "        text-align: right;\n",
       "    }\n",
       "</style>\n",
       "<table border=\"1\" class=\"dataframe\">\n",
       "  <thead>\n",
       "    <tr style=\"text-align: right;\">\n",
       "      <th></th>\n",
       "      <th>symbol</th>\n",
       "      <th>frequency</th>\n",
       "    </tr>\n",
       "  </thead>\n",
       "  <tbody>\n",
       "    <tr>\n",
       "      <th>0</th>\n",
       "      <td>f</td>\n",
       "      <td>5</td>\n",
       "    </tr>\n",
       "    <tr>\n",
       "      <th>1</th>\n",
       "      <td>f</td>\n",
       "      <td>4</td>\n",
       "    </tr>\n",
       "    <tr>\n",
       "      <th>2</th>\n",
       "      <td>e</td>\n",
       "      <td>3</td>\n",
       "    </tr>\n",
       "    <tr>\n",
       "      <th>3</th>\n",
       "      <td>e</td>\n",
       "      <td>3</td>\n",
       "    </tr>\n",
       "    <tr>\n",
       "      <th>4</th>\n",
       "      <td>f</td>\n",
       "      <td>4</td>\n",
       "    </tr>\n",
       "    <tr>\n",
       "      <th>...</th>\n",
       "      <td>...</td>\n",
       "      <td>...</td>\n",
       "    </tr>\n",
       "    <tr>\n",
       "      <th>139</th>\n",
       "      <td>g</td>\n",
       "      <td>4</td>\n",
       "    </tr>\n",
       "    <tr>\n",
       "      <th>140</th>\n",
       "      <td>g</td>\n",
       "      <td>3</td>\n",
       "    </tr>\n",
       "    <tr>\n",
       "      <th>141</th>\n",
       "      <td>g</td>\n",
       "      <td>5</td>\n",
       "    </tr>\n",
       "    <tr>\n",
       "      <th>142</th>\n",
       "      <td>g</td>\n",
       "      <td>5</td>\n",
       "    </tr>\n",
       "    <tr>\n",
       "      <th>143</th>\n",
       "      <td>g</td>\n",
       "      <td>3</td>\n",
       "    </tr>\n",
       "  </tbody>\n",
       "</table>\n",
       "<p>144 rows × 2 columns</p>\n",
       "</div>"
      ],
      "text/plain": [
       "    symbol  frequency\n",
       "0        f          5\n",
       "1        f          4\n",
       "2        e          3\n",
       "3        e          3\n",
       "4        f          4\n",
       "..     ...        ...\n",
       "139      g          4\n",
       "140      g          3\n",
       "141      g          5\n",
       "142      g          5\n",
       "143      g          3\n",
       "\n",
       "[144 rows x 2 columns]"
      ]
     },
     "execution_count": 171,
     "metadata": {},
     "output_type": "execute_result"
    }
   ],
   "source": [
    "freq = pd.DataFrame({'symbol':alpha,'frequency':val})\n",
    "# freq.to_clipboard()\n",
    "# freq.sort_values(by= 'frequency', ascending = False)\n",
    "freq[freq['frequency']==20].count()   \n",
    "freq"
   ]
  },
  {
   "cell_type": "code",
   "execution_count": 174,
   "id": "34ba9c35",
   "metadata": {},
   "outputs": [
    {
     "name": "stderr",
     "output_type": "stream",
     "text": [
      "/Users/sujitc/opt/anaconda3/lib/python3.9/site-packages/seaborn/_decorators.py:36: FutureWarning: Pass the following variables as keyword args: x, y. From version 0.12, the only valid positional argument will be `data`, and passing other arguments without an explicit keyword will result in an error or misinterpretation.\n",
      "  warnings.warn(\n"
     ]
    },
    {
     "data": {
      "image/png": "[encoded data removed]",
      "text/plain": [
       "<Figure size 1656x288 with 1 Axes>"
      ]
     },
     "metadata": {},
     "output_type": "display_data"
    }
   ],
   "source": [
    "## Symbol Frequency Plot\n",
    "ax = sns.barplot(freq.index, freq.frequency)\n",
    "for i in ax.containers:\n",
    "    ax.bar_label(i,)\n",
    "    \n",
    "plt.rcParams['figure.figsize'] = [23, 4]\n",
    "a = freq.index\n",
    "x = freq.symbol\n",
    "plt.xticks(a, x, fontsize = 16)\n",
    "plt.yticks(fontsize = 16)\n",
    "sns.set(font_scale=2)\n",
    "plt.ylabel('Frequency',fontsize=16)\n",
    "# plt.ylim (0, 20)\n",
    "plt.show()"
   ]
  },
  {
   "cell_type": "code",
   "execution_count": null,
   "id": "c8b11e44",
   "metadata": {},
   "outputs": [],
   "source": []
  }
 ],
 "metadata": {
  "kernelspec": {
   "display_name": "Python 3 (ipykernel)",
   "language": "python",
   "name": "python3"
  },
  "language_info": {
   "codemirror_mode": {
    "name": "ipython",
    "version": 3
   },
   "file_extension": ".py",
   "mimetype": "text/x-python",
   "name": "python",
   "nbconvert_exporter": "python",
   "pygments_lexer": "ipython3",
   "version": "3.9.7"
  }
 },
 "nbformat": 4,
 "nbformat_minor": 5
}
