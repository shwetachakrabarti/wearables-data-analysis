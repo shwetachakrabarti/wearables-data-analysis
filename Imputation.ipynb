{
 "cells": [
  {
   "cell_type": "markdown",
   "id": "811a7319",
   "metadata": {},
   "source": [
    "Imputation of missing values in a time series dataset using bins of data"
   ]
  },
  {
   "cell_type": "code",
   "execution_count": 46,
   "id": "05bd06b6",
   "metadata": {
    "id": "05bd06b6"
   },
   "outputs": [],
   "source": [
    "#!pip install missingpy\n",
    "import os\n",
    "os.chdir('/Users/sujitc/Desktop/Wearables/Signatures/Imputation_binning/21stjan')"
   ]
  },
  {
   "cell_type": "code",
   "execution_count": 47,
   "id": "22a1c45b",
   "metadata": {
    "id": "22a1c45b"
   },
   "outputs": [],
   "source": [
    "import numpy as np\n",
    "import pandas as pd\n",
    "import matplotlib.pyplot as plt\n",
    "import seaborn as sns\n",
    "import datetime\n",
    "from sklearn.preprocessing import StandardScaler\n",
    "from sklearn.covariance import EllipticEnvelope\n",
    "from datetime import timedelta\n",
    "from pandas import Grouper \n",
    "import impyute\n",
    "import sys\n",
    "import sklearn.neighbors._base\n",
    "sys.modules['sklearn.neighbors.base'] = sklearn.neighbors._base\n",
    "import impyute\n",
    "from missingpy import MissForest\n",
    "from sklearn.linear_model import LinearRegression\n",
    "from sklearn.metrics import mean_squared_error\n",
    "from sklearn.experimental import enable_iterative_imputer\n",
    "from sklearn.impute import IterativeImputer"
   ]
  },
  {
   "cell_type": "code",
   "execution_count": 48,
   "id": "a64110cd",
   "metadata": {
    "id": "a64110cd"
   },
   "outputs": [
    {
     "data": {
      "text/html": [
       "<div>\n",
       "<style scoped>\n",
       "    .dataframe tbody tr th:only-of-type {\n",
       "        vertical-align: middle;\n",
       "    }\n",
       "\n",
       "    .dataframe tbody tr th {\n",
       "        vertical-align: top;\n",
       "    }\n",
       "\n",
       "    .dataframe thead th {\n",
       "        text-align: right;\n",
       "    }\n",
       "</style>\n",
       "<table border=\"1\" class=\"dataframe\">\n",
       "  <thead>\n",
       "    <tr style=\"text-align: right;\">\n",
       "      <th></th>\n",
       "      <th>user</th>\n",
       "      <th>heartrate</th>\n",
       "    </tr>\n",
       "    <tr>\n",
       "      <th>datetime</th>\n",
       "      <th></th>\n",
       "      <th></th>\n",
       "    </tr>\n",
       "  </thead>\n",
       "  <tbody>\n",
       "    <tr>\n",
       "      <th>2020-11-01 00:00:00</th>\n",
       "      <td>V1</td>\n",
       "      <td>NaN</td>\n",
       "    </tr>\n",
       "    <tr>\n",
       "      <th>2020-11-01 00:01:00</th>\n",
       "      <td>V1</td>\n",
       "      <td>NaN</td>\n",
       "    </tr>\n",
       "    <tr>\n",
       "      <th>2020-11-01 00:02:00</th>\n",
       "      <td>V1</td>\n",
       "      <td>NaN</td>\n",
       "    </tr>\n",
       "    <tr>\n",
       "      <th>2020-11-01 00:03:00</th>\n",
       "      <td>V1</td>\n",
       "      <td>NaN</td>\n",
       "    </tr>\n",
       "    <tr>\n",
       "      <th>2020-11-01 00:04:00</th>\n",
       "      <td>V1</td>\n",
       "      <td>NaN</td>\n",
       "    </tr>\n",
       "    <tr>\n",
       "      <th>...</th>\n",
       "      <td>...</td>\n",
       "      <td>...</td>\n",
       "    </tr>\n",
       "    <tr>\n",
       "      <th>2022-06-29 23:56:00</th>\n",
       "      <td>V1</td>\n",
       "      <td>81.0</td>\n",
       "    </tr>\n",
       "    <tr>\n",
       "      <th>2022-06-29 23:57:00</th>\n",
       "      <td>V1</td>\n",
       "      <td>78.0</td>\n",
       "    </tr>\n",
       "    <tr>\n",
       "      <th>2022-06-29 23:58:00</th>\n",
       "      <td>V1</td>\n",
       "      <td>79.0</td>\n",
       "    </tr>\n",
       "    <tr>\n",
       "      <th>2022-06-29 23:59:00</th>\n",
       "      <td>V1</td>\n",
       "      <td>NaN</td>\n",
       "    </tr>\n",
       "    <tr>\n",
       "      <th>2022-06-30 00:00:00</th>\n",
       "      <td>V1</td>\n",
       "      <td>76.0</td>\n",
       "    </tr>\n",
       "  </tbody>\n",
       "</table>\n",
       "<p>871202 rows × 2 columns</p>\n",
       "</div>"
      ],
      "text/plain": [
       "                    user  heartrate\n",
       "datetime                           \n",
       "2020-11-01 00:00:00   V1        NaN\n",
       "2020-11-01 00:01:00   V1        NaN\n",
       "2020-11-01 00:02:00   V1        NaN\n",
       "2020-11-01 00:03:00   V1        NaN\n",
       "2020-11-01 00:04:00   V1        NaN\n",
       "...                  ...        ...\n",
       "2022-06-29 23:56:00   V1       81.0\n",
       "2022-06-29 23:57:00   V1       78.0\n",
       "2022-06-29 23:58:00   V1       79.0\n",
       "2022-06-29 23:59:00   V1        NaN\n",
       "2022-06-30 00:00:00   V1       76.0\n",
       "\n",
       "[871202 rows x 2 columns]"
      ]
     },
     "execution_count": 48,
     "metadata": {},
     "output_type": "execute_result"
    }
   ],
   "source": [
    "# df = pd.read_csv('V1_output_data.csv')\n",
    "# df['New_Time'] = df['Date'] + ' ' +df['Time']\n",
    "# df['New_Time'] = pd.to_datetime(df['New_Time'])\n",
    "# df=df.set_index(['New_Time'])\n",
    "# df = pd.read_csv('V1_further.csv')\n",
    "# # df['New_Time'] = df['Date'] + ' ' +df['Time']\n",
    "# df['Datetime'] = pd.to_datetime(df['Datetime'])\n",
    "# df=df.set_index(['Datetime'])\n",
    "# df\n",
    "df = pd.read_csv('V1_hr.csv')\n",
    "# df.drop('Unnamed: 0', inplace = True, axis =1)\n",
    "df['datetime'] = pd.to_datetime(df['datetime'])\n",
    "df=df.set_index(['datetime'])\n",
    "df"
   ]
  },
  {
   "cell_type": "code",
   "execution_count": 49,
   "id": "6beea453",
   "metadata": {
    "id": "6beea453"
   },
   "outputs": [],
   "source": [
    "aug_df= df[np.logical_and(df.index>='2022-01-01 00:00:00', df.index<='2022-01-31 23:59:00')]"
   ]
  },
  {
   "cell_type": "code",
   "execution_count": 50,
   "id": "64398c74",
   "metadata": {
    "colab": {
     "base_uri": "https://localhost:8080/"
    },
    "id": "64398c74",
    "outputId": "1ab98936-d977-4ccd-d422-f145cf960d44"
   },
   "outputs": [
    {
     "name": "stderr",
     "output_type": "stream",
     "text": [
      "/var/folders/x5/zgk82l8x3lj7rjsy02yylnk00000gn/T/ipykernel_4455/1989452900.py:13: SettingWithCopyWarning: \n",
      "A value is trying to be set on a copy of a slice from a DataFrame.\n",
      "Try using .loc[row_indexer,col_indexer] = value instead\n",
      "\n",
      "See the caveats in the documentation: https://pandas.pydata.org/pandas-docs/stable/user_guide/indexing.html#returning-a-view-versus-a-copy\n",
      "  dfs['Hour']=dfs.index.strftime('%H').astype(float)\n",
      "/var/folders/x5/zgk82l8x3lj7rjsy02yylnk00000gn/T/ipykernel_4455/1989452900.py:14: SettingWithCopyWarning: \n",
      "A value is trying to be set on a copy of a slice from a DataFrame.\n",
      "Try using .loc[row_indexer,col_indexer] = value instead\n",
      "\n",
      "See the caveats in the documentation: https://pandas.pydata.org/pandas-docs/stable/user_guide/indexing.html#returning-a-view-versus-a-copy\n",
      "  dfs['Minute']=dfs.index.strftime('%M').astype(float)\n",
      "/var/folders/x5/zgk82l8x3lj7rjsy02yylnk00000gn/T/ipykernel_4455/1989452900.py:13: SettingWithCopyWarning: \n",
      "A value is trying to be set on a copy of a slice from a DataFrame.\n",
      "Try using .loc[row_indexer,col_indexer] = value instead\n",
      "\n",
      "See the caveats in the documentation: https://pandas.pydata.org/pandas-docs/stable/user_guide/indexing.html#returning-a-view-versus-a-copy\n",
      "  dfs['Hour']=dfs.index.strftime('%H').astype(float)\n",
      "/var/folders/x5/zgk82l8x3lj7rjsy02yylnk00000gn/T/ipykernel_4455/1989452900.py:14: SettingWithCopyWarning: \n",
      "A value is trying to be set on a copy of a slice from a DataFrame.\n",
      "Try using .loc[row_indexer,col_indexer] = value instead\n",
      "\n",
      "See the caveats in the documentation: https://pandas.pydata.org/pandas-docs/stable/user_guide/indexing.html#returning-a-view-versus-a-copy\n",
      "  dfs['Minute']=dfs.index.strftime('%M').astype(float)\n",
      "/var/folders/x5/zgk82l8x3lj7rjsy02yylnk00000gn/T/ipykernel_4455/1989452900.py:13: SettingWithCopyWarning: \n",
      "A value is trying to be set on a copy of a slice from a DataFrame.\n",
      "Try using .loc[row_indexer,col_indexer] = value instead\n",
      "\n",
      "See the caveats in the documentation: https://pandas.pydata.org/pandas-docs/stable/user_guide/indexing.html#returning-a-view-versus-a-copy\n",
      "  dfs['Hour']=dfs.index.strftime('%H').astype(float)\n",
      "/var/folders/x5/zgk82l8x3lj7rjsy02yylnk00000gn/T/ipykernel_4455/1989452900.py:14: SettingWithCopyWarning: \n",
      "A value is trying to be set on a copy of a slice from a DataFrame.\n",
      "Try using .loc[row_indexer,col_indexer] = value instead\n",
      "\n",
      "See the caveats in the documentation: https://pandas.pydata.org/pandas-docs/stable/user_guide/indexing.html#returning-a-view-versus-a-copy\n",
      "  dfs['Minute']=dfs.index.strftime('%M').astype(float)\n",
      "/var/folders/x5/zgk82l8x3lj7rjsy02yylnk00000gn/T/ipykernel_4455/1989452900.py:13: SettingWithCopyWarning: \n",
      "A value is trying to be set on a copy of a slice from a DataFrame.\n",
      "Try using .loc[row_indexer,col_indexer] = value instead\n",
      "\n",
      "See the caveats in the documentation: https://pandas.pydata.org/pandas-docs/stable/user_guide/indexing.html#returning-a-view-versus-a-copy\n",
      "  dfs['Hour']=dfs.index.strftime('%H').astype(float)\n",
      "/var/folders/x5/zgk82l8x3lj7rjsy02yylnk00000gn/T/ipykernel_4455/1989452900.py:14: SettingWithCopyWarning: \n",
      "A value is trying to be set on a copy of a slice from a DataFrame.\n",
      "Try using .loc[row_indexer,col_indexer] = value instead\n",
      "\n",
      "See the caveats in the documentation: https://pandas.pydata.org/pandas-docs/stable/user_guide/indexing.html#returning-a-view-versus-a-copy\n",
      "  dfs['Minute']=dfs.index.strftime('%M').astype(float)\n",
      "/var/folders/x5/zgk82l8x3lj7rjsy02yylnk00000gn/T/ipykernel_4455/1989452900.py:13: SettingWithCopyWarning: \n",
      "A value is trying to be set on a copy of a slice from a DataFrame.\n",
      "Try using .loc[row_indexer,col_indexer] = value instead\n",
      "\n",
      "See the caveats in the documentation: https://pandas.pydata.org/pandas-docs/stable/user_guide/indexing.html#returning-a-view-versus-a-copy\n",
      "  dfs['Hour']=dfs.index.strftime('%H').astype(float)\n",
      "/var/folders/x5/zgk82l8x3lj7rjsy02yylnk00000gn/T/ipykernel_4455/1989452900.py:14: SettingWithCopyWarning: \n",
      "A value is trying to be set on a copy of a slice from a DataFrame.\n",
      "Try using .loc[row_indexer,col_indexer] = value instead\n",
      "\n",
      "See the caveats in the documentation: https://pandas.pydata.org/pandas-docs/stable/user_guide/indexing.html#returning-a-view-versus-a-copy\n",
      "  dfs['Minute']=dfs.index.strftime('%M').astype(float)\n",
      "/var/folders/x5/zgk82l8x3lj7rjsy02yylnk00000gn/T/ipykernel_4455/1989452900.py:13: SettingWithCopyWarning: \n",
      "A value is trying to be set on a copy of a slice from a DataFrame.\n",
      "Try using .loc[row_indexer,col_indexer] = value instead\n",
      "\n",
      "See the caveats in the documentation: https://pandas.pydata.org/pandas-docs/stable/user_guide/indexing.html#returning-a-view-versus-a-copy\n",
      "  dfs['Hour']=dfs.index.strftime('%H').astype(float)\n",
      "/var/folders/x5/zgk82l8x3lj7rjsy02yylnk00000gn/T/ipykernel_4455/1989452900.py:14: SettingWithCopyWarning: \n",
      "A value is trying to be set on a copy of a slice from a DataFrame.\n",
      "Try using .loc[row_indexer,col_indexer] = value instead\n",
      "\n",
      "See the caveats in the documentation: https://pandas.pydata.org/pandas-docs/stable/user_guide/indexing.html#returning-a-view-versus-a-copy\n",
      "  dfs['Minute']=dfs.index.strftime('%M').astype(float)\n"
     ]
    },
    {
     "name": "stdout",
     "output_type": "stream",
     "text": [
      "2022-01-21 18:00:00\n",
      "44640\n",
      "1891\n",
      "3751\n",
      "5611\n",
      "7471\n",
      "9331\n",
      "11191\n"
     ]
    },
    {
     "name": "stderr",
     "output_type": "stream",
     "text": [
      "/Users/sujitc/opt/anaconda3/lib/python3.9/site-packages/sklearn/ensemble/_forest.py:396: FutureWarning: Criterion 'mse' was deprecated in v1.0 and will be removed in version 1.2. Use `criterion='squared_error'` which is equivalent.\n",
      "  warn(\n",
      "/Users/sujitc/opt/anaconda3/lib/python3.9/site-packages/sklearn/ensemble/_forest.py:396: FutureWarning: Criterion 'mse' was deprecated in v1.0 and will be removed in version 1.2. Use `criterion='squared_error'` which is equivalent.\n",
      "  warn(\n"
     ]
    },
    {
     "name": "stdout",
     "output_type": "stream",
     "text": [
      "Iteration: 0\n",
      "Iteration: 1\n"
     ]
    },
    {
     "name": "stderr",
     "output_type": "stream",
     "text": [
      "/Users/sujitc/opt/anaconda3/lib/python3.9/site-packages/sklearn/ensemble/_forest.py:396: FutureWarning: Criterion 'mse' was deprecated in v1.0 and will be removed in version 1.2. Use `criterion='squared_error'` which is equivalent.\n",
      "  warn(\n",
      "/Users/sujitc/opt/anaconda3/lib/python3.9/site-packages/sklearn/ensemble/_forest.py:396: FutureWarning: Criterion 'mse' was deprecated in v1.0 and will be removed in version 1.2. Use `criterion='squared_error'` which is equivalent.\n",
      "  warn(\n"
     ]
    },
    {
     "name": "stdout",
     "output_type": "stream",
     "text": [
      "Iteration: 2\n",
      "Iteration: 3\n"
     ]
    },
    {
     "name": "stderr",
     "output_type": "stream",
     "text": [
      "/Users/sujitc/opt/anaconda3/lib/python3.9/site-packages/sklearn/ensemble/_forest.py:396: FutureWarning: Criterion 'mse' was deprecated in v1.0 and will be removed in version 1.2. Use `criterion='squared_error'` which is equivalent.\n",
      "  warn(\n",
      "/Users/sujitc/opt/anaconda3/lib/python3.9/site-packages/sklearn/ensemble/_forest.py:396: FutureWarning: Criterion 'mse' was deprecated in v1.0 and will be removed in version 1.2. Use `criterion='squared_error'` which is equivalent.\n",
      "  warn(\n",
      "/Users/sujitc/opt/anaconda3/lib/python3.9/site-packages/sklearn/ensemble/_forest.py:396: FutureWarning: Criterion 'mse' was deprecated in v1.0 and will be removed in version 1.2. Use `criterion='squared_error'` which is equivalent.\n",
      "  warn(\n"
     ]
    },
    {
     "name": "stdout",
     "output_type": "stream",
     "text": [
      "Iteration: 0\n",
      "Iteration: 1\n",
      "Iteration: 2\n"
     ]
    },
    {
     "name": "stderr",
     "output_type": "stream",
     "text": [
      "/Users/sujitc/opt/anaconda3/lib/python3.9/site-packages/sklearn/ensemble/_forest.py:396: FutureWarning: Criterion 'mse' was deprecated in v1.0 and will be removed in version 1.2. Use `criterion='squared_error'` which is equivalent.\n",
      "  warn(\n",
      "/Users/sujitc/opt/anaconda3/lib/python3.9/site-packages/sklearn/ensemble/_forest.py:396: FutureWarning: Criterion 'mse' was deprecated in v1.0 and will be removed in version 1.2. Use `criterion='squared_error'` which is equivalent.\n",
      "  warn(\n",
      "/Users/sujitc/opt/anaconda3/lib/python3.9/site-packages/sklearn/ensemble/_forest.py:396: FutureWarning: Criterion 'mse' was deprecated in v1.0 and will be removed in version 1.2. Use `criterion='squared_error'` which is equivalent.\n",
      "  warn(\n"
     ]
    },
    {
     "name": "stdout",
     "output_type": "stream",
     "text": [
      "Iteration: 3\n",
      "Iteration: 0\n",
      "Iteration: 1\n"
     ]
    },
    {
     "name": "stderr",
     "output_type": "stream",
     "text": [
      "/Users/sujitc/opt/anaconda3/lib/python3.9/site-packages/sklearn/ensemble/_forest.py:396: FutureWarning: Criterion 'mse' was deprecated in v1.0 and will be removed in version 1.2. Use `criterion='squared_error'` which is equivalent.\n",
      "  warn(\n",
      "/Users/sujitc/opt/anaconda3/lib/python3.9/site-packages/sklearn/ensemble/_forest.py:396: FutureWarning: Criterion 'mse' was deprecated in v1.0 and will be removed in version 1.2. Use `criterion='squared_error'` which is equivalent.\n",
      "  warn(\n",
      "/Users/sujitc/opt/anaconda3/lib/python3.9/site-packages/sklearn/ensemble/_forest.py:396: FutureWarning: Criterion 'mse' was deprecated in v1.0 and will be removed in version 1.2. Use `criterion='squared_error'` which is equivalent.\n",
      "  warn(\n"
     ]
    },
    {
     "name": "stdout",
     "output_type": "stream",
     "text": [
      "Iteration: 2\n",
      "Iteration: 3\n",
      "Iteration: 4\n"
     ]
    },
    {
     "name": "stderr",
     "output_type": "stream",
     "text": [
      "/Users/sujitc/opt/anaconda3/lib/python3.9/site-packages/sklearn/ensemble/_forest.py:396: FutureWarning: Criterion 'mse' was deprecated in v1.0 and will be removed in version 1.2. Use `criterion='squared_error'` which is equivalent.\n",
      "  warn(\n",
      "/Users/sujitc/opt/anaconda3/lib/python3.9/site-packages/sklearn/ensemble/_forest.py:396: FutureWarning: Criterion 'mse' was deprecated in v1.0 and will be removed in version 1.2. Use `criterion='squared_error'` which is equivalent.\n",
      "  warn(\n",
      "/Users/sujitc/opt/anaconda3/lib/python3.9/site-packages/sklearn/ensemble/_forest.py:396: FutureWarning: Criterion 'mse' was deprecated in v1.0 and will be removed in version 1.2. Use `criterion='squared_error'` which is equivalent.\n",
      "  warn(\n"
     ]
    },
    {
     "name": "stdout",
     "output_type": "stream",
     "text": [
      "Iteration: 0\n",
      "Iteration: 1\n",
      "Iteration: 2\n"
     ]
    },
    {
     "name": "stderr",
     "output_type": "stream",
     "text": [
      "/Users/sujitc/opt/anaconda3/lib/python3.9/site-packages/sklearn/ensemble/_forest.py:396: FutureWarning: Criterion 'mse' was deprecated in v1.0 and will be removed in version 1.2. Use `criterion='squared_error'` which is equivalent.\n",
      "  warn(\n",
      "/Users/sujitc/opt/anaconda3/lib/python3.9/site-packages/sklearn/ensemble/_forest.py:396: FutureWarning: Criterion 'mse' was deprecated in v1.0 and will be removed in version 1.2. Use `criterion='squared_error'` which is equivalent.\n",
      "  warn(\n",
      "/Users/sujitc/opt/anaconda3/lib/python3.9/site-packages/sklearn/ensemble/_forest.py:396: FutureWarning: Criterion 'mse' was deprecated in v1.0 and will be removed in version 1.2. Use `criterion='squared_error'` which is equivalent.\n",
      "  warn(\n"
     ]
    },
    {
     "name": "stdout",
     "output_type": "stream",
     "text": [
      "Iteration: 0\n",
      "Iteration: 1\n",
      "Iteration: 2\n"
     ]
    },
    {
     "name": "stderr",
     "output_type": "stream",
     "text": [
      "/Users/sujitc/opt/anaconda3/lib/python3.9/site-packages/sklearn/ensemble/_forest.py:396: FutureWarning: Criterion 'mse' was deprecated in v1.0 and will be removed in version 1.2. Use `criterion='squared_error'` which is equivalent.\n",
      "  warn(\n",
      "/Users/sujitc/opt/anaconda3/lib/python3.9/site-packages/sklearn/ensemble/_forest.py:396: FutureWarning: Criterion 'mse' was deprecated in v1.0 and will be removed in version 1.2. Use `criterion='squared_error'` which is equivalent.\n",
      "  warn(\n",
      "/Users/sujitc/opt/anaconda3/lib/python3.9/site-packages/sklearn/ensemble/_forest.py:396: FutureWarning: Criterion 'mse' was deprecated in v1.0 and will be removed in version 1.2. Use `criterion='squared_error'` which is equivalent.\n",
      "  warn(\n"
     ]
    },
    {
     "name": "stdout",
     "output_type": "stream",
     "text": [
      "Iteration: 3\n",
      "Iteration: 4\n",
      "Iteration: 0\n"
     ]
    },
    {
     "name": "stderr",
     "output_type": "stream",
     "text": [
      "/Users/sujitc/opt/anaconda3/lib/python3.9/site-packages/sklearn/ensemble/_forest.py:396: FutureWarning: Criterion 'mse' was deprecated in v1.0 and will be removed in version 1.2. Use `criterion='squared_error'` which is equivalent.\n",
      "  warn(\n",
      "/Users/sujitc/opt/anaconda3/lib/python3.9/site-packages/sklearn/ensemble/_forest.py:396: FutureWarning: Criterion 'mse' was deprecated in v1.0 and will be removed in version 1.2. Use `criterion='squared_error'` which is equivalent.\n",
      "  warn(\n",
      "/Users/sujitc/opt/anaconda3/lib/python3.9/site-packages/sklearn/ensemble/_forest.py:396: FutureWarning: Criterion 'mse' was deprecated in v1.0 and will be removed in version 1.2. Use `criterion='squared_error'` which is equivalent.\n",
      "  warn(\n"
     ]
    },
    {
     "name": "stdout",
     "output_type": "stream",
     "text": [
      "Iteration: 1\n",
      "Iteration: 2\n",
      "Iteration: 0\n",
      "Iteration: 1\n",
      "Iteration: 2\n"
     ]
    },
    {
     "name": "stderr",
     "output_type": "stream",
     "text": [
      "/Users/sujitc/opt/anaconda3/lib/python3.9/site-packages/sklearn/ensemble/_forest.py:396: FutureWarning: Criterion 'mse' was deprecated in v1.0 and will be removed in version 1.2. Use `criterion='squared_error'` which is equivalent.\n",
      "  warn(\n",
      "/Users/sujitc/opt/anaconda3/lib/python3.9/site-packages/sklearn/ensemble/_forest.py:396: FutureWarning: Criterion 'mse' was deprecated in v1.0 and will be removed in version 1.2. Use `criterion='squared_error'` which is equivalent.\n",
      "  warn(\n"
     ]
    }
   ],
   "source": [
    "# aug_df = df[df.index.strftime(\"%m\")=='12']\n",
    "for i in range(17,18):\n",
    "    binned_df1 = aug_df[(aug_df.index.strftime(\"%H:%M\") >= '00:00') & (aug_df.index.strftime(\"%H:%M\") <= '23:59')] \n",
    "    binned_df2 = aug_df[(aug_df.index.strftime(\"%H:%M\") >= f'{str(i).zfill(2)}:00') & (aug_df.index.strftime(\"%H:%M\") <= f'{str(i+1).zfill(2)}:00')]\n",
    "    binned_df3 = aug_df[(aug_df.index.strftime(\"%H:%M\") >= f'{str(i-1).zfill(2)}:30') & (aug_df.index.strftime(\"%H:%M\") <= f'{str(i+1).zfill(2)}:30')]\n",
    "    binned_df4 = aug_df[(aug_df.index.strftime(\"%H:%M\") >= f'{str(i-1).zfill(2)}:00') & (aug_df.index.strftime(\"%H:%M\") <= f'{str(i+2).zfill(2)}:00')]\n",
    "    binned_df5 = aug_df[(aug_df.index.strftime(\"%H:%M\") >= f'{str(i-2).zfill(2)}:30') & (aug_df.index.strftime(\"%H:%M\") <= f'{str(i+2).zfill(2)}:30')]\n",
    "    binned_df6 = aug_df[(aug_df.index.strftime(\"%H:%M\") >= f'{str(i-2).zfill(2)}:00') & (aug_df.index.strftime(\"%H:%M\") <= f'{str(i+3).zfill(2)}:00')]\n",
    "    binned_df7 = aug_df[(aug_df.index.strftime(\"%H:%M\") >= f'{str(i-3).zfill(2)}:30') & (aug_df.index.strftime(\"%H:%M\") <= f'{str(i+3).zfill(2)}:30')]\n",
    "\n",
    "    binned_df = [binned_df1, binned_df2, binned_df3, binned_df4, binned_df5, binned_df6, binned_df7]\n",
    "    for dfs in binned_df:\n",
    "        dfs['Hour']=dfs.index.strftime('%H').astype(float)\n",
    "        dfs['Minute']=dfs.index.strftime('%M').astype(float)\n",
    "\n",
    "    starttime=datetime.datetime(2022, 1, 21,i) \n",
    "    endtime=datetime.datetime(2022, 1, 21, i+1) \n",
    "    print(endtime)\n",
    "\n",
    "  \n",
    "    for dfs in binned_df:\n",
    "        print(len(dfs))\n",
    "        original=dfs.loc[np.logical_and(dfs.index >= starttime, dfs.index <= endtime)]\n",
    "        dfs.loc[np.logical_and(dfs.index > starttime, dfs.index < endtime), 'heartrate'] = np.nan\n",
    "\n",
    "\n",
    "    import impyute\n",
    "    emerror = []\n",
    "    def imputation(binned_df):\n",
    "        dft_arr=binned_df.to_numpy()\n",
    "        arr_em_impute=impyute.imputation.cs.em(dft_arr, loops=100)\n",
    "        df_em_impute=pd.DataFrame(arr_em_impute,columns=['heartrate','Hour'],index=binned_df.index)\n",
    "        return df_em_impute\n",
    "    for dfs in binned_df:\n",
    "        df_imputed=imputation(dfs.drop(columns=['Minute', 'user'],axis=1))\n",
    "        imputed=df_imputed.loc[original.index]\n",
    "        pred=imputed.heartrate\n",
    "        actual=original.heartrate\n",
    "        from sklearn.metrics import mean_squared_error \n",
    "        emrmse = mean_squared_error(actual, pred, squared=False)\n",
    "        emrmse = \"{:.2f}\".format(emrmse)\n",
    "        emerror.append(emrmse)\n",
    "    \n",
    "    ii=IterativeImputer(random_state=0)\n",
    "\n",
    "    iierror =[]\n",
    "    for dfs in binned_df:\n",
    "        df_ii=ii.fit_transform(dfs.drop(columns=['Minute', 'user'],axis=1))\n",
    "        df_ii=pd.DataFrame(df_ii,columns=['heartrate','Hour'],index=dfs.index)\n",
    "        ii_pred=df_ii.loc[original.index]\n",
    "        iipred=ii_pred.heartrate\n",
    "        actual=original.heartrate\n",
    "        iirmse = mean_squared_error(actual, iipred, squared=False)\n",
    "        iirmse = \"{:.2f}\".format(iirmse)\n",
    "        iierror.append(iirmse)\n",
    "    from sklearn.impute import KNNImputer\n",
    "    from sklearn.metrics import mean_squared_error\n",
    "    knn=KNNImputer(n_neighbors=1500)\n",
    "\n",
    "    knnerror = []\n",
    "    for dfs in binned_df:\n",
    "        df_knn=knn.fit_transform(dfs.drop(columns=['Minute', 'user'],axis=1))\n",
    "        df_knn=pd.DataFrame(df_knn,columns=['heartrate','Hour'],index=dfs.index)\n",
    "        knn_pred=df_knn.loc[np.logical_and(df_knn.index >= starttime, df_knn.index <= endtime)]\n",
    "        knnpred=knn_pred.heartrate\n",
    "        actual = original['heartrate']\n",
    "        rmseknn = mean_squared_error(actual, knnpred, squared=False)\n",
    "        rmseknn = \"{:.2f}\".format(rmseknn)\n",
    "        knnerror.append(rmseknn)\n",
    "    imputer = MissForest()\n",
    "    rferror = []\n",
    "    for dfs in binned_df:\n",
    "        df_rf = imputer.fit_transform(dfs.drop(columns=['Minute', 'user'],axis=1))\n",
    "        df_rf=pd.DataFrame(df_rf,columns=['heartrate', 'Hour'],index=dfs.index)\n",
    "        rf_pred = df_rf.loc[original.index]\n",
    "        rfpred = rf_pred.heartrate\n",
    "        actual = original.heartrate\n",
    "        rmserf = mean_squared_error(actual, rfpred, squared=False)\n",
    "        rmserf = \"{:.2f}\".format(rmserf)\n",
    "        rferror.append(rmserf)\n",
    "    from sklearn.impute import SimpleImputer\n",
    "    my_imputer = SimpleImputer(strategy = 'mean')\n",
    "\n",
    "    lrerror = []\n",
    "    for dfs in binned_df:\n",
    "        df_simple = my_imputer.fit_transform(dfs.drop(columns=['Minute', 'user'],axis=1))\n",
    "        df_simple=pd.DataFrame(df_simple,columns=['heartrate','Hour'],index=dfs.index)\n",
    "        simple_pred=df_simple.loc[original.index]\n",
    "        simplepred=simple_pred.heartrate\n",
    "        actual=original.heartrate\n",
    "        rmselr = mean_squared_error(actual, simplepred, squared=False)\n",
    "        rmselr = \"{:.2f}\".format(rmselr)\n",
    "        lrerror.append(rmselr)\n",
    "\n",
    "    df1 = pd.DataFrame(columns = ['Bin Size','EM', 'II'] )\n",
    "    df1['EM'] = emerror\n",
    "    df1['II'] = iierror\n",
    "    df1['KNN'] = knnerror\n",
    "    df1['RF'] = rferror\n",
    "    df1['SI'] = lrerror\n",
    "    df1['Bin Size'] = ['Entire','1hr', '2hr', '3hr', '4hr', '5hr', '6hr']\n",
    "    df1=df1.set_index(['Bin Size'])\n",
    "    df1.to_csv(f'{i}-{i+1}_allday_onlymonth.csv')\n",
    "\n",
    "\n",
    "    \n",
    "\n",
    "# binned_df8 = aug_df[(aug_df.index.strftime(\"%H:%M\") >= '01:45') & (aug_df.index.strftime(\"%H:%M\") <= '06:45')]\n",
    "# binned_df9 = aug_df[(aug_df.index.strftime(\"%H:%M\") >= '01:15') & (aug_df.index.strftime(\"%H:%M\") <= '07:15')]\n"
   ]
  }
 ],
 "metadata": {
  "colab": {
   "name": "Binning_imputation-15jan.ipynb",
   "provenance": []
  },
  "kernelspec": {
   "display_name": "Python 3 (ipykernel)",
   "language": "python",
   "name": "python3"
  },
  "language_info": {
   "codemirror_mode": {
    "name": "ipython",
    "version": 3
   },
   "file_extension": ".py",
   "mimetype": "text/x-python",
   "name": "python",
   "nbconvert_exporter": "python",
   "pygments_lexer": "ipython3",
   "version": "3.9.7"
  }
 },
 "nbformat": 4,
 "nbformat_minor": 5
}
